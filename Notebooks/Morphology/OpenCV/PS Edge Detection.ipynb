{
 "cells": [
  {
   "cell_type": "markdown",
   "id": "3d8c2091-9231-4861-aa6a-0a90420d0afe",
   "metadata": {},
   "source": [
    "### PS Edge Detecion\n",
    "This section of code will demonstrate how to take an image and transform it to see edges."
   ]
  },
  {
   "cell_type": "code",
   "execution_count": 12,
   "id": "94e8f70d-974a-4b11-b6e7-5f93bc10f60b",
   "metadata": {},
   "outputs": [
    {
     "name": "stdout",
     "output_type": "stream",
     "text": [
      "Time taken: 0.8657827377319336 seconds \n"
     ]
    },
    {
     "data": {
      "text/plain": [
       "True"
      ]
     },
     "execution_count": 12,
     "metadata": {},
     "output_type": "execute_result"
    }
   ],
   "source": [
    "import os\n",
    "import cv2\n",
    "import numpy as np\n",
    "import time\n",
    "from PIL import Image\n",
    "\n",
    "#timer \n",
    "start_time = time.time()\n",
    "parent_dir = os.path.abspath(os.path.join(os.getcwd(), os.pardir))\n",
    "\n",
    "# Load img and resize to look nice\n",
    "img_og = cv2.imread(os.path.join(parent_dir, 'Peppers.jpg')) # CHANGE THIS\n",
    "img = cv2.resize(img_og, (1920, 1080)) # To make sure\n",
    "\n",
    "# Convert to binary\n",
    "gray_img = cv2.cvtColor(img, cv2.COLOR_BGR2GRAY)\n",
    "edges = cv2.Canny(gray_img, 125, 175)\n",
    "\n",
    "print(\"Time taken: %s seconds \" % (time.time() - start_time))\n",
    "cv2.imwrite('Peppers_edges.jpg', edges)"
   ]
  },
  {
   "cell_type": "markdown",
   "id": "81365ad8-aaed-496f-bb94-f429d6abb63a",
   "metadata": {},
   "source": [
    "The process of this code is:\n",
    "* Find and specify path of image\n",
    "* Resize for convenience sake so that it is easier to view\n",
    "* Convert the image to a greyscale\n",
    "* Derive the necerssary information from the greyscale then transform it into binary\n",
    "    - If it is below the threshold of 127, it will transform to a 0\n",
    "    - Otherwise, it will become 255 (the max value)\n",
    "        - The reason for changing it to max instead of a binary 1 is for visualisation reasons, otherwise it would be too dark to see\n",
    "* Output final image out in seperate file\n",
    "* Timer to visualise how long it takes on a pure PS implementation"
   ]
  },
  {
   "cell_type": "code",
   "execution_count": 11,
   "id": "e477a912-d7c0-42ec-a14b-cc1d4c9df42f",
   "metadata": {},
   "outputs": [
    {
     "data": {
      "image/png": "[encoded data removed]",
      "text/plain": [
       "<PIL.Image.Image image mode=P size=1920x1080 at 0xA28AADD8>"
      ]
     },
     "execution_count": 11,
     "metadata": {},
     "output_type": "execute_result"
    }
   ],
   "source": [
    "Image.fromarray(np.uint8(edges), mode='P')"
   ]
  },
  {
   "cell_type": "code",
   "execution_count": null,
   "id": "f5dbb630-ded8-49f3-add4-c403e9566db8",
   "metadata": {},
   "outputs": [],
   "source": []
  }
 ],
 "metadata": {
  "kernelspec": {
   "display_name": "Python 3",
   "language": "python",
   "name": "python3"
  },
  "language_info": {
   "codemirror_mode": {
    "name": "ipython",
    "version": 3
   },
   "file_extension": ".py",
   "mimetype": "text/x-python",
   "name": "python",
   "nbconvert_exporter": "python",
   "pygments_lexer": "ipython3",
   "version": "3.8.2"
  }
 },
 "nbformat": 4,
 "nbformat_minor": 5
}
