{
 "cells": [
  {
   "cell_type": "markdown",
   "id": "94a579d3-26aa-4e65-8202-b61625ea887f",
   "metadata": {},
   "source": [
    "### PS basic Skeletonisation\n",
    "This section of code shows how it is possible to run a skeleton filter, that runs similar to the HWA version we created, in OpenCV without any HWA. It also provides a timer to show the time it takes to operate."
   ]
  },
  {
   "cell_type": "code",
   "execution_count": 3,
   "id": "d530e85f-75c9-4cd7-8803-06b796ac68a3",
   "metadata": {},
   "outputs": [
    {
     "name": "stdout",
     "output_type": "stream",
     "text": [
      "Time taken: 0.8793284893035889 seconds \n"
     ]
    }
   ],
   "source": [
    "import numpy as np\n",
    "import cv2\n",
    "import os\n",
    "import time\n",
    "from PIL import Image\n",
    "\n",
    "#timer \n",
    "start_time = time.time()\n",
    "parent_dir = os.path.abspath(os.path.join(os.getcwd(), os.pardir))\n",
    "\n",
    "# Load img and resize to look nice\n",
    "img_og = cv2.imread(os.path.join(parent_dir, 'Peppers.jpg')) # CHANGE THIS\n",
    "img = cv2.resize(img_og, (1920, 1080)) # To make sure\n",
    "\n",
    "# Convert to grayscale\n",
    "gray_img = cv2.cvtColor(img, cv2.COLOR_BGR2GRAY)\n",
    "\n",
    "# Info\n",
    "size = np.size(gray_img)\n",
    "skel = np.zeros(gray_img.shape, np.uint8)\n",
    "\n",
    "ret, gray_img = cv2.threshold(gray_img, 127, 255, 0) # change all values 127 ~ 255 to 0\n",
    "element = cv2.getStructuringElement(cv2.MORPH_CROSS, (3,3))\n",
    "iterations = 0\n",
    "\n",
    "while(iterations < 1): # fun number\n",
    "    eroded =  cv2.erode(gray_img, element)\n",
    "    temp = cv2.dilate(eroded, element)\n",
    "    temp = cv2.subtract(gray_img, temp)\n",
    "    skel = cv2.bitwise_or(skel, temp)\n",
    "    gray_img = eroded.copy()\n",
    "\n",
    "    zeros = size - cv2.countNonZero(gray_img)\n",
    "    if zeros == size:\n",
    "        iterations =3\n",
    "        \n",
    "    iterations =+ 1\n",
    "\n",
    "cv2.imwrite('Peppers_single_skelly.jpg', skel)\n",
    "print(\"Time taken: %s seconds \" % (time.time() - start_time))"
   ]
  },
  {
   "cell_type": "markdown",
   "id": "cffb5dc2-3dcf-442b-942b-374fabcae81c",
   "metadata": {},
   "source": [
    "The process of this code is:\n",
    "* Find and specify path of image\n",
    "* Resize for convenience sake so that it is easier to view\n",
    "* Convert the image to a greyscale\n",
    "* Derive the necerssary information from the greyscale then transform it into binary\n",
    "    - If it is below the threshold of 127, it will transform to a 0\n",
    "    - Otherwise, it will become 255 (the max value)\n",
    "        - The reason for changing it to max instead of a binary 1 is for visualisation reasons, otherwise it would be too dark to see\n",
    "* While loop contains the skeletonisation filter\n",
    "    - Only does it once\n",
    "* Output final image out in seperate file\n",
    "* Timer to visualise how long it takes on a pure PS implementation"
   ]
  },
  {
   "cell_type": "code",
   "execution_count": 4,
   "id": "39fa217c-715c-48ea-92b1-e226f10adb88",
   "metadata": {},
   "outputs": [
    {
     "data": {
      "image/png": "[encoded data removed]",
      "text/plain": [
       "<PIL.Image.Image image mode=P size=1920x1080 at 0xA1149B08>"
      ]
     },
     "execution_count": 4,
     "metadata": {},
     "output_type": "execute_result"
    }
   ],
   "source": [
    "Image.fromarray(np.uint8(skel), mode='P')"
   ]
  },
  {
   "cell_type": "code",
   "execution_count": null,
   "id": "f5cc8552-7d96-44ac-8a32-a7631cb09057",
   "metadata": {},
   "outputs": [],
   "source": []
  }
 ],
 "metadata": {
  "kernelspec": {
   "display_name": "Python 3",
   "language": "python",
   "name": "python3"
  },
  "language_info": {
   "codemirror_mode": {
    "name": "ipython",
    "version": 3
   },
   "file_extension": ".py",
   "mimetype": "text/x-python",
   "name": "python",
   "nbconvert_exporter": "python",
   "pygments_lexer": "ipython3",
   "version": "3.8.2"
  }
 },
 "nbformat": 4,
 "nbformat_minor": 5
}
